{
  "nbformat": 4,
  "nbformat_minor": 0,
  "metadata": {
    "colab": {
      "provenance": [],
      "authorship_tag": "ABX9TyO/WJ9IzOxYgtZc19wQ+rqQ",
      "include_colab_link": true
    },
    "kernelspec": {
      "name": "python3",
      "display_name": "Python 3"
    },
    "language_info": {
      "name": "python"
    }
  },
  "cells": [
    {
      "cell_type": "markdown",
      "metadata": {
        "id": "view-in-github",
        "colab_type": "text"
      },
      "source": [
        "<a href=\"https://colab.research.google.com/github/katarro/Tarea-1-Ia/blob/main/Copia_de_Tarea_1_Ia.ipynb\" target=\"_parent\"><img src=\"https://colab.research.google.com/assets/colab-badge.svg\" alt=\"Open In Colab\"/></a>"
      ]
    },
    {
      "cell_type": "markdown",
      "source": [
        "# Parte 1"
      ],
      "metadata": {
        "id": "nZAKs-4num1i"
      }
    },
    {
      "cell_type": "markdown",
      "source": [
        "Usando la librería bnlearn y un dataset de su elección, aprenda la estructura de una red bayesiana en función de esos datos y caracterice los parámetros y elementos de la red obtenida ."
      ],
      "metadata": {
        "id": "fcDXpXKTZ__u"
      }
    },
    {
      "cell_type": "code",
      "source": [
        "!pip install bnlearn==0.7"
      ],
      "metadata": {
        "id": "bWVr_clNHgyK",
        "colab": {
          "base_uri": "https://localhost:8080/"
        },
        "outputId": "b6bb68ad-d49c-41db-b2e8-2dd24fb8e140"
      },
      "execution_count": 2,
      "outputs": [
        {
          "output_type": "stream",
          "name": "stdout",
          "text": [
            "Collecting bnlearn==0.7\n",
            "  Downloading bnlearn-0.7.0-py3-none-any.whl (46 kB)\n",
            "\u001b[2K     \u001b[90m━━━━━━━━━━━━━━━━━━━━━━━━━━━━━━━━━━━━━━━━\u001b[0m \u001b[32m47.0/47.0 kB\u001b[0m \u001b[31m1.6 MB/s\u001b[0m eta \u001b[36m0:00:00\u001b[0m\n",
            "\u001b[?25hCollecting pgmpy>=0.1.13 (from bnlearn==0.7)\n",
            "  Downloading pgmpy-0.1.23-py3-none-any.whl (1.9 MB)\n",
            "\u001b[2K     \u001b[90m━━━━━━━━━━━━━━━━━━━━━━━━━━━━━━━━━━━━━━━━\u001b[0m \u001b[32m1.9/1.9 MB\u001b[0m \u001b[31m14.7 MB/s\u001b[0m eta \u001b[36m0:00:00\u001b[0m\n",
            "\u001b[?25hRequirement already satisfied: networkx>2.7 in /usr/local/lib/python3.10/dist-packages (from bnlearn==0.7) (3.1)\n",
            "Requirement already satisfied: matplotlib>=3.3.4 in /usr/local/lib/python3.10/dist-packages (from bnlearn==0.7) (3.7.1)\n",
            "Requirement already satisfied: numpy in /usr/local/lib/python3.10/dist-packages (from bnlearn==0.7) (1.23.5)\n",
            "Requirement already satisfied: pandas in /usr/local/lib/python3.10/dist-packages (from bnlearn==0.7) (1.5.3)\n",
            "Requirement already satisfied: tqdm in /usr/local/lib/python3.10/dist-packages (from bnlearn==0.7) (4.66.1)\n",
            "Collecting ismember (from bnlearn==0.7)\n",
            "  Downloading ismember-1.0.2-py3-none-any.whl (7.5 kB)\n",
            "Collecting sklearn (from bnlearn==0.7)\n",
            "  Downloading sklearn-0.0.post9.tar.gz (3.6 kB)\n",
            "  \u001b[1;31merror\u001b[0m: \u001b[1msubprocess-exited-with-error\u001b[0m\n",
            "  \n",
            "  \u001b[31m×\u001b[0m \u001b[32mpython setup.py egg_info\u001b[0m did not run successfully.\n",
            "  \u001b[31m│\u001b[0m exit code: \u001b[1;36m1\u001b[0m\n",
            "  \u001b[31m╰─>\u001b[0m See above for output.\n",
            "  \n",
            "  \u001b[1;35mnote\u001b[0m: This error originates from a subprocess, and is likely not a problem with pip.\n",
            "  Preparing metadata (setup.py) ... \u001b[?25l\u001b[?25herror\n",
            "\u001b[1;31merror\u001b[0m: \u001b[1mmetadata-generation-failed\u001b[0m\n",
            "\n",
            "\u001b[31m×\u001b[0m Encountered error while generating package metadata.\n",
            "\u001b[31m╰─>\u001b[0m See above for output.\n",
            "\n",
            "\u001b[1;35mnote\u001b[0m: This is an issue with the package mentioned above, not pip.\n",
            "\u001b[1;36mhint\u001b[0m: See above for details.\n"
          ]
        }
      ]
    },
    {
      "cell_type": "code",
      "execution_count": null,
      "metadata": {
        "id": "9eZ9feF_GAAD"
      },
      "outputs": [],
      "source": [
        "import pandas as pd\n",
        "import bnlearn as bn"
      ]
    },
    {
      "cell_type": "code",
      "source": [
        "import numpy as np\n",
        "import matplotlib.pyplot as plt"
      ],
      "metadata": {
        "id": "N7GGKxlIGX62"
      },
      "execution_count": 1,
      "outputs": []
    },
    {
      "cell_type": "code",
      "source": [
        "# Cara el archivo .csv en un DataFrame de Pandas\n",
        "data = pd.read_csv('/content/drive/MyDrive/adult.csv', index_col=0, encoding='latin-1', error_bad_lines=False)"
      ],
      "metadata": {
        "id": "awA4iNTCGc6D"
      },
      "execution_count": null,
      "outputs": []
    },
    {
      "cell_type": "code",
      "source": [
        "#visualiza la carga del dataset\n",
        "print(data.head())"
      ],
      "metadata": {
        "id": "YbZEtPnrZpWK"
      },
      "execution_count": null,
      "outputs": []
    },
    {
      "cell_type": "code",
      "source": [
        "# Aprender la estructura de la red bayesiana\n",
        "model = bn.structure_learning.fit(data)"
      ],
      "metadata": {
        "id": "4js7rpSXQNZD"
      },
      "execution_count": null,
      "outputs": []
    },
    {
      "cell_type": "code",
      "source": [
        "# Visualizar la estructura aprendida\n",
        "bn.plot(model)"
      ],
      "metadata": {
        "id": "Sog_-7p2VzuT"
      },
      "execution_count": null,
      "outputs": []
    },
    {
      "cell_type": "code",
      "source": [
        "# Aprender los parámetros de la red (CPTs)\n",
        "model_update = bn.parameter_learning.fit(model, data)"
      ],
      "metadata": {
        "id": "Sl94B4hyWfQ8"
      },
      "execution_count": null,
      "outputs": []
    },
    {
      "cell_type": "code",
      "source": [
        "# Mostrar las CPTs\n",
        "bn.print_CPD(model_update)"
      ],
      "metadata": {
        "id": "3oCG6YpYYNaI"
      },
      "execution_count": null,
      "outputs": []
    },
    {
      "cell_type": "markdown",
      "source": [
        "Ahora,construya una segunda red bayesiana utilizando la mitad aleatoria de los datos,seleccionando de manera uniforme. Caracterice los parámetros y elementos de esta nueva red ."
      ],
      "metadata": {
        "id": "mOEQSlQ1aRmE"
      }
    },
    {
      "cell_type": "code",
      "source": [
        "# Seleccionar aleatoriamente la mitad de los datos\n",
        "data_random_half = data.sample(frac=0.5)"
      ],
      "metadata": {
        "id": "rizaGuRXaUC7"
      },
      "execution_count": null,
      "outputs": []
    },
    {
      "cell_type": "code",
      "source": [
        "# Aprender la estructura de la red bayesiana con la mitad aleatoria de los datos\n",
        "model_random_half = bn.structure_learning.fit(data_random_half)"
      ],
      "metadata": {
        "id": "KYaRMwu_sI1Y"
      },
      "execution_count": null,
      "outputs": []
    },
    {
      "cell_type": "code",
      "source": [
        "# Aprender los parámetros de la red (CPTs) con la mitad aleatoria de los datos\n",
        "model_update_random_half = bn.parameter_learning.fit(model_random_half, data_random_half)"
      ],
      "metadata": {
        "id": "wFpSRqsMsoJq"
      },
      "execution_count": null,
      "outputs": []
    },
    {
      "cell_type": "code",
      "source": [
        "# Visualizar la estructura aprendida\n",
        "bn.plot(model_random_half)"
      ],
      "metadata": {
        "id": "QNoerHH_jTFD"
      },
      "execution_count": null,
      "outputs": []
    },
    {
      "cell_type": "code",
      "source": [
        "# Mostrar las CPTs\n",
        "bn.print_CPD(model_update_random_half)"
      ],
      "metadata": {
        "id": "sAyO01njjhv6"
      },
      "execution_count": null,
      "outputs": []
    },
    {
      "cell_type": "markdown",
      "source": [
        "Realice dos consultas de inferencia sobre la primera red\n",
        "bayesiana. Luego, realice las mismas dos consultas sobre la segunda red bayesiana.\n",
        "Documente cómo se reorganizan los parámetros para cada caso y compare las\n",
        "salidas de ambas redes. Explique en detalle los resultados obtenidos en cada\n",
        "consulta, considerando las diferencias entre las dos redes y cómo afectan las\n",
        "respuestas"
      ],
      "metadata": {
        "id": "QCA6tn9nu_Uy"
      }
    },
    {
      "cell_type": "code",
      "source": [
        "from bnlearn import inference"
      ],
      "metadata": {
        "id": "OY-pXLdcGOgL"
      },
      "execution_count": null,
      "outputs": []
    },
    {
      "cell_type": "code",
      "source": [
        "# Probabilidad condicional de que una persona tenga ingresos mayores a 50K dado que trabaja 40 horas a la semana.\n",
        "inference1 = bn.inference.fit(model_update, variables=['income'], evidence={'hours.per.week': 40})"
      ],
      "metadata": {
        "id": "nj0_zye-uvDQ"
      },
      "execution_count": null,
      "outputs": []
    },
    {
      "cell_type": "code",
      "source": [
        "# Probabilidad de diferentes ocupaciones dado que la persona es de género femenino y viuda.\n",
        "inference2 = bn.inference.fit(model_update, variables=['occupation'], evidence={'sex': 'Female', 'marital.status': 'Widowed'})"
      ],
      "metadata": {
        "id": "Y3DDUwQsJTA0"
      },
      "execution_count": null,
      "outputs": []
    },
    {
      "cell_type": "markdown",
      "source": [
        "Las mismas 2 consultas, pero ahora sobre la 2da red Bayesiana."
      ],
      "metadata": {
        "id": "XlNKTBiJJ5C1"
      }
    },
    {
      "cell_type": "code",
      "source": [
        "# Probabilidad condicional de que una persona tenga ingresos mayores a 50K dado que trabaja 40 horas a la semana.\n",
        "inference1 = bn.inference.fit(model_update_random_half, variables=['income'], evidence={'hours.per.week': 40})"
      ],
      "metadata": {
        "id": "O5Hl2eYTJ_g5"
      },
      "execution_count": null,
      "outputs": []
    },
    {
      "cell_type": "code",
      "source": [
        "# Probabilidad de diferentes ocupaciones dado que la persona es de género femenino y viuda.\n",
        "inference2 = bn.inference.fit(model_update_random_half, variables=['occupation'], evidence={'sex': 'Female', 'marital.status': 'Widowed'})"
      ],
      "metadata": {
        "id": "5YxtXTq4KF-C"
      },
      "execution_count": null,
      "outputs": []
    },
    {
      "cell_type": "markdown",
      "source": [
        "# Documentación de Parámetros y Comparación de Salidas\n"
      ],
      "metadata": {
        "id": "16VviR4IL17x"
      }
    },
    {
      "cell_type": "markdown",
      "source": [
        "**Consulta 1**: Probabilidad de ingresos mayores a 50K dado que trabaja 40 horas a la semana.  \n",
        "\n",
        "\n",
        "<table>\n",
        "  <tr>\n",
        "    <th align=\"right\">Modelo</th>\n",
        "    <th align=\"right\">Income</th>\n",
        "    <th align=\"right\">Probabilidad</th>\n",
        "    <th align=\"right\">Percentaje</th>\n",
        "  </tr>\n",
        "  <tr>\n",
        "    <td align=\"right\">Primera Red - Modelo completo</td>\n",
        "    <td align=\"right\"><=50K</td>\n",
        "    <td align=\"right\">0.78642</td>\n",
        "    <td align=\"right\">78.642%</td>\n",
        "  </tr>\n",
        "  <tr>\n",
        "    <td align=\"right\">Primera Red - Modelo completo</td>\n",
        "    <td align=\"right\">>50K</td>\n",
        "    <td align=\"right\">0.21358</td>\n",
        "    <td align=\"right\">21.358%</td>\n",
        "  </tr>\n",
        "  <tr>\n",
        "    <td align=\"right\">Segunda Red - Modelo con mitad de Datos</td>\n",
        "    <td align=\"right\"><=50K</td>\n",
        "    <td align=\"right\">0.787547</td>\n",
        "    <td align=\"right\">78.7547%</td>\n",
        "  </tr>\n",
        "  <tr>\n",
        "    <td align=\"right\">Segunda Red - Modelo con mitad de Datos</td>\n",
        "    <td align=\"right\">>50K</td>\n",
        "    <td align=\"right\">0.212453</td>\n",
        "    <td align=\"right\">21.2453%</td>\n",
        "  </tr>\n",
        "</table>  \n",
        "\n",
        "\n",
        "**Observaciones**  \n",
        "*La poca variación en los parámetros entre las dos redes sugiere que el modelo tiene una alta estabilidad y es resistente a fluctuaciones en el volumen de datos de entrenamiento. Esto podría interpretarse como una señal de que el modelo es \"robusto\", lo que significa que es capaz de mantener su rendimiento y precisión incluso en condiciones menos ideales, como la disponibilidad de un conjunto de datos más pequeño.\n",
        "\n",
        "Esta \"robustez\" es una propiedad deseable, ya que indica que el modelo es confiable y puede generalizar bien a partir de diferentes tamaños de conjuntos de datos. En otras palabras, el modelo no es \"sobreajustado\" a un conjunto de datos específico y tiene la capacidad de adaptarse a nuevas informaciones sin perder precisión..*  \n",
        "\n",
        "\n",
        "---\n",
        "\n",
        "\n",
        "\n",
        "---\n",
        "\n",
        "\n"
      ],
      "metadata": {
        "id": "MGYG_z7aL99X"
      }
    },
    {
      "cell_type": "markdown",
      "source": [
        "**Consulta 2**: *Probabilidad de ocupación dado que la persona es de género femenino y viuda.*  \n",
        "\n",
        "**Primera Red** - *Modelo Completo*  \n",
        "<table>\n",
        "  <tr>\n",
        "    <th align=\"right\">Ocupacion</th>\n",
        "    <th align=\"right\">Probabilidad</th>\n",
        "    <th align=\"right\">Porcentaje</th>\n",
        "  </tr>\n",
        "  <tr>\n",
        "    <td align=\"right\">?</td>\n",
        "    <td align=\"right\">0.0790411</td>\n",
        "    <td align=\"right\">7.90%</td>\n",
        "  </tr>\n",
        "  <tr>\n",
        "    <td align=\"right\">Adm-clerical</td>\n",
        "    <td align=\"right\">0.23143</td>\n",
        "    <td align=\"right\">23.14%</td>\n",
        "  </tr>\n",
        "  <tr>\n",
        "    <td align=\"right\">Armed-Forces</td>\n",
        "    <td align=\"right\">0.00252472</td>\n",
        "    <td align=\"right\">0.25%</td>\n",
        "  </tr>\n",
        "  <tr>\n",
        "    <td align=\"right\">Craft-repair</td>\n",
        "    <td align=\"right\">0.0225046</td>\n",
        "    <td align=\"right\">2.25%</td>\n",
        "  </tr>\n",
        "  <tr>\n",
        "    <td align=\"right\">Exec-managerial</td>\n",
        "    <td align=\"right\">0.100727</td>\n",
        "    <td align=\"right\">10.07%</td>\n",
        "  </tr>\n",
        "  <tr>\n",
        "    <td align=\"right\">Farming-fishing</td>\n",
        "    <td align=\"right\">0.00850882</td>\n",
        "    <td align=\"right\">0.85%</td>\n",
        "  </tr>\n",
        "  <tr>\n",
        "    <td align=\"right\">Handlers-cleaners</td>\n",
        "    <td align=\"right\">0.0176594</td>\n",
        "    <td align=\"right\">1.77%</td>\n",
        "  </tr>\n",
        "  <tr>\n",
        "    <td align=\"right\">Machine-op-inspct</td>\n",
        "    <td align=\"right\">0.0530524</td>\n",
        "    <td align=\"right\">5.31%</td>\n",
        "  </tr>\n",
        "  <tr>\n",
        "    <td align=\"right\">Other-service</td>\n",
        "    <td align=\"right\">0.168391</td>\n",
        "    <td align=\"right\">16.84%</td>\n",
        "  </tr>\n",
        "  <tr>\n",
        "    <td align=\"right\">Priv-house-serv</td>\n",
        "    <td align=\"right\">0.0156217</td>\n",
        "    <td align=\"right\">1.56%</td>\n",
        "  </tr>\n",
        "  <tr>\n",
        "    <td align=\"right\">Prof-specialty</td>\n",
        "    <td align=\"right\">0.13023</td>\n",
        "    <td align=\"right\">13.02%</td>\n",
        "  </tr>\n",
        "  <tr>\n",
        "    <td align=\"right\">Protective-serv</td>\n",
        "    <td align=\"right\">0.00925502</td>\n",
        "    <td align=\"right\">0.93%</td>\n",
        "  </tr>\n",
        "  <tr>\n",
        "    <td align=\"right\">Sales</td>\n",
        "    <td align=\"right\">0.117091</td>\n",
        "    <td align=\"right\">11.71%</td>\n",
        "  </tr>\n",
        "  <tr>\n",
        "    <td align=\"right\">Tech-support</td>\n",
        "    <td align=\"right\">0.0333699</td>\n",
        "    <td align=\"right\">3.34%</td>\n",
        "  </tr>\n",
        "  <tr>\n",
        "    <td align=\"right\">Transport-moving</td>\n",
        "    <td align=\"right\">0.0105937</td>\n",
        "    <td align=\"right\">1.06%</td>\n",
        "  </tr>\n",
        "</table>\n",
        "\n",
        "\n",
        "\n",
        "\n"
      ],
      "metadata": {
        "id": "EDpRuyuSOmVx"
      }
    },
    {
      "cell_type": "markdown",
      "source": [
        "**Segunda Red** - *Modelo con mitad de Datos*  \n",
        "\n",
        "<table>\n",
        "  <tr>\n",
        "    <th align=\"right\">Ocupacion</th>\n",
        "    <th align=\"right\">Probabilidad</th>\n",
        "    <th align=\"right\">Porcentaje</th>\n",
        "  </tr>\n",
        "  <tr>\n",
        "    <td align=\"right\">?</td>\n",
        "    <td align=\"right\">0.070235</td>\n",
        "    <td align=\"right\">7.02%</td>\n",
        "  </tr>\n",
        "  <tr>\n",
        "    <td align=\"right\">Adm-clerical</td>\n",
        "    <td align=\"right\">0.22684</td>\n",
        "    <td align=\"right\">22.68%</td>\n",
        "  </tr>\n",
        "  <tr>\n",
        "    <td align=\"right\">Armed-Forces</td>\n",
        "    <td align=\"right\">0.00449651</td>\n",
        "    <td align=\"right\">0.45%</td>\n",
        "  </tr>\n",
        "  <tr>\n",
        "    <td align=\"right\">Craft-repair</td>\n",
        "    <td align=\"right\">0.0257261</td>\n",
        "    <td align=\"right\">2.57%</td>\n",
        "  </tr>\n",
        "  <tr>\n",
        "    <td align=\"right\">Exec-managerial</td>\n",
        "    <td align=\"right\">0.108724</td>\n",
        "    <td align=\"right\">10.87%</td>\n",
        "  </tr>\n",
        "  <tr>\n",
        "    <td align=\"right\">Farming-fishing</td>\n",
        "    <td align=\"right\">0.00917069</td>\n",
        "    <td align=\"right\">0.92%</td>\n",
        "  </tr>\n",
        "  <tr>\n",
        "    <td align=\"right\">Handlers-cleaners</td>\n",
        "    <td align=\"right\">0.0201009</td>\n",
        "    <td align=\"right\">2.01%</td>\n",
        "  </tr>\n",
        "  <tr>\n",
        "    <td align=\"right\">Machine-op-inspct</td>\n",
        "    <td align=\"right\">0.0566429</td>\n",
        "    <td align=\"right\">5.66%</td>\n",
        "  </tr>\n",
        "  <tr>\n",
        "    <td align=\"right\">Other-service</td>\n",
        "    <td align=\"right\">0.156802</td>\n",
        "    <td align=\"right\">15.68%</td>\n",
        "  </tr>\n",
        "  <tr>\n",
        "    <td align=\"right\">Priv-house-serv</td>\n",
        "    <td align=\"right\">0.0195543</td>\n",
        "    <td align=\"right\">1.96%</td>\n",
        "  </tr>\n",
        "  <tr>\n",
        "    <td align=\"right\">Prof-specialty</td>\n",
        "    <td align=\"right\">0.13504</td>\n",
        "    <td align=\"right\">13.50%</td>\n",
        "  </tr>\n",
        "  <tr>\n",
        "    <td align=\"right\">Protective-serv</td>\n",
        "    <td align=\"right\">0.00986291</td>\n",
        "    <td align=\"right\">0.99%</td>\n",
        "  </tr>\n",
        "  <tr>\n",
        "    <td align=\"right\">Sales</td>\n",
        "    <td align=\"right\">0.104657</td>\n",
        "    <td align=\"right\">10.47%</td>\n",
        "  </tr>\n",
        "  <tr>\n",
        "    <td align=\"right\">Tech-support</td>\n",
        "    <td align=\"right\">0.0390603</td>\n",
        "    <td align=\"right\">3.91%</td>\n",
        "  </tr>\n",
        "  <tr>\n",
        "    <td align=\"right\">Transport-moving</td>\n",
        "    <td align=\"right\">0.013088</td>\n",
        "    <td align=\"right\">1.31%</td>\n",
        "  </tr>\n",
        "</table>\n",
        "\n"
      ],
      "metadata": {
        "id": "Ve529v-PRjW4"
      }
    },
    {
      "cell_type": "markdown",
      "source": [
        "**Observaciones**  \n",
        "La similitud en los parámetros entre las dos redes sugiere que la estructura y las relaciones condicionales entre las variables son bastante estables, incluso cuando se utiliza un conjunto de datos más pequeño para entrenar la segunda red. Esto es una buena señal de que el modelo es robusto y generaliza bien a partir de los datos disponibles\n",
        "Escribe esto con distintas palabras, es para un informe de ingenieria.  \n",
        "\n",
        "\n",
        "---\n",
        "\n",
        "\n",
        "\n",
        "---\n",
        "\n"
      ],
      "metadata": {
        "id": "fci08GvHSHgo"
      }
    },
    {
      "cell_type": "markdown",
      "source": [
        "**Explicación Detallada**  \n",
        "**Consulta 1**: *En ambas redes, la probabilidad de tener ingresos mayores a 50K dado que se trabaja 40 horas a la semana es aproximadamente del 21% y fracción. Esto sugiere que trabajar 40 horas a la semana no es un fuerte indicador de tener ingresos mayores a 50K según los modelos.*\n",
        "\n",
        "**Consulta 2**: *Las ocupaciones más probables para una mujer viuda en ambas redes son \"Adm-clerical\", \"Exec-managerial\" y \"Prof-specialty\". Las probabilidades varían ligeramente entre las dos redes, lo que podría deberse a la variabilidad estadística al usar un conjunto de datos más pequeño para la segunda red.*\n",
        "\n",
        "*Por lo tanto, las diferencias entre las dos redes son mínimas, lo que sugiere que la red es bastante robusta al tamaño del conjunto de datos. Por otra parte, las pequeñas diferencias en las probabilidades podrían ser importantes según el contexto en el que se utilicen, pero para esta tarea, la diferencia es despreciable.*"
      ],
      "metadata": {
        "id": "C37nnknPSgU3"
      }
    },
    {
      "cell_type": "code",
      "source": [
        "import numpy as np\n",
        "import matplotlib.pyplot as plt"
      ],
      "metadata": {
        "id": "2VxJ5mXUSyQ-"
      },
      "execution_count": null,
      "outputs": []
    },
    {
      "cell_type": "markdown",
      "source": [
        "# PARTE 2"
      ],
      "metadata": {
        "id": "KZNnqlZaFSaX"
      }
    },
    {
      "cell_type": "code",
      "source": [
        "# Definir la matriz\n",
        "matriz = np.array([\n",
        "    [0.27, 0.13, 0.09, 0.02, 0.10, 0.11, 0.15, 0.13],\n",
        "    [0.17, 0.18, 0.00, 0.15, 0.14, 0.13, 0.12, 0.11],\n",
        "    [0.15, 0.13, 0.05, 0.07, 0.11, 0.19, 0.19, 0.11],\n",
        "    [0.19, 0.11, 0.15, 0.15, 0.12, 0.11, 0.12, 0.05],\n",
        "    [0.11, 0.20, 0.17, 0.14, 0.18, 0.11, 0.07, 0.02],\n",
        "    [0.07, 0.12, 0.11, 0.12, 0.27, 0.09, 0.03, 0.19],\n",
        "    [0.15, 0.10, 0.12, 0.08, 0.18, 0.07, 0.14, 0.16],\n",
        "    [0.21, 0.09, 0.06, 0.13, 0.05, 0.17, 0.08, 0.21]\n",
        "])\n",
        "\n",
        "# Estado inicial (Blind Guardian es el séptimo grupo en la lista)\n",
        "estado_inicial = np.array([0, 0, 0, 0, 0, 0, 1, 0])"
      ],
      "metadata": {
        "id": "cHSDcMbGFVWx"
      },
      "execution_count": 3,
      "outputs": []
    },
    {
      "cell_type": "code",
      "source": [
        "# Función para calcular la evolución de la probabilidad\n",
        "def evolucion_cadena_markov(estado_inicial, matriz, pasos):\n",
        "    state = estado_inicial\n",
        "    probabilidades = []\n",
        "    for _ in range(pasos):\n",
        "        state = np.dot(state, matriz)\n",
        "        probabilidades.append(state)\n",
        "    return np.array(probabilidades)"
      ],
      "metadata": {
        "id": "zVhZXqCnI8Cs"
      },
      "execution_count": 4,
      "outputs": []
    },
    {
      "cell_type": "code",
      "source": [
        "# Calcular la evolución de la probabilidad para 200, 500 y 1000 pasos\n",
        "lista_pasos = [200, 500, 1000]\n",
        "\n",
        "# Calcular y mostrar las probabilidades\n",
        "for pasos in lista_pasos:\n",
        "    probabilidades = evolucion_cadena_markov(estado_inicial, matriz, pasos)\n",
        "    print(f\"Probabilidad de escuchar a Manowar (G5) después de {pasos} canciones: {probabilidades[pasos - 1, 4]}\")\n",
        "    print(f\"Probabilidad de escuchar a Blind Guardian (G7) después de {pasos} canciones: {probabilidades[pasos - 1, 6]}\")\n",
        "    print(f\"Probabilidad de escuchar a Helloween (G1) después de {pasos} canciones: {probabilidades[pasos - 1, 0]}\")\n",
        "    print(\"---\")\n",
        "\n"
      ],
      "metadata": {
        "id": "enuyrauyI-qm"
      },
      "execution_count": null,
      "outputs": []
    },
    {
      "cell_type": "code",
      "source": [
        "# Gráficos\n",
        "# a)\n",
        "for pasos in lista_pasos:\n",
        "    probabilidades = evolucion_cadena_markov(estado_inicial, matriz, pasos)\n",
        "\n",
        "    plt.figure()\n",
        "    plt.plot(probabilidades[:, 4], label='Manowar (G5)')\n",
        "    plt.plot(probabilidades[:, 6], label='Blind Guardian (G7)')\n",
        "    plt.plot(probabilidades[:, 0], label='Helloween (G1)')\n",
        "    plt.title(f'Evolución de la probabilidad después de {pasos} canciones')\n",
        "    plt.xlabel('Número de canciones')\n",
        "    plt.ylabel('Probabilidad')\n",
        "    plt.legend()\n",
        "    plt.show()"
      ],
      "metadata": {
        "id": "Ocn-Hi-UO1rP"
      },
      "execution_count": null,
      "outputs": []
    },
    {
      "cell_type": "code",
      "source": [
        "# Encontrar el estado estacionario de la cadena de Markov de manera analítica utilizando NumPy.\n",
        "\n",
        "eigenvalues, eigenvectors = np.linalg.eig(matriz.T)\n",
        "index = np.argmin(np.abs(eigenvalues - 1))\n",
        "estado_estacionario_no_normalizado = np.real(eigenvectors[:, index])\n",
        "\n",
        "# Normaliza el vector para que la suma de sus elementos sea 1\n",
        "estado_estacionario = estado_estacionario_no_normalizado / estado_estacionario_no_normalizado.sum()\n",
        "\n",
        "print(\"Estado estacionario de Manowar (G5):       \", estado_estacionario[4])\n",
        "print(\"Estado estacionario de Blind Wardian (G7): \",estado_estacionario[6])\n",
        "print(\"Estado estacionario de Helloween (G1):     \",estado_estacionario[0])\n"
      ],
      "metadata": {
        "id": "s3sxSMVCVQ7P"
      },
      "execution_count": null,
      "outputs": []
    },
    {
      "cell_type": "markdown",
      "source": [
        "b)\n",
        "*Determinar el estado estacionario de la cadena de Markov de manera analítica, esto es, a través del sistema de ecuaciones visto en clases.\n",
        "Compare y analice sus resultados con la parte (a).*"
      ],
      "metadata": {
        "id": "QjP54BpkP5B3"
      }
    },
    {
      "cell_type": "markdown",
      "source": [
        "Para encontrar el estado estacionario de una cadena de Markov, debemos resolver el sistema de ecuaciones lineales \\( πP = π \\), donde \\( π \\) es el vector de estado estacionario y \\( P \\) es la matriz de transición. La suma de todas las probabilidades en \\( π \\) debe ser igual a 1.\n",
        "\n",
        "Las ecuaciones para encontrar el estado estacionario son:  \n",
        "\\begin{align*}  \\pi = [\\pi_1, \\pi_2, \\pi_3, \\pi_4, \\pi_5, \\pi_6, \\pi_7, \\pi_8]\n",
        "\\end{align*}\n",
        "\n",
        "\n",
        "\\begin{align*}\n",
        "\\pi_1 &= 0.27\\pi_1 + 0.17\\pi_2 + 0.15\\pi_3 + 0.19\\pi_4 + 0.11\\pi_5 + 0.07\\pi_6 + 0.15\\pi_7 + 0.21\\pi_8 \\\\\n",
        "\\pi_2 &= 0.13\\pi_1 + 0.18\\pi_2 + 0.13\\pi_3 + 0.11\\pi_4 + 0.20\\pi_5 + 0.12\\pi_6 + 0.10\\pi_7 + 0.09\\pi_8 \\\\\n",
        "\\pi_3 &= 0.09\\pi_1 + 0.00\\pi_2 + 0.05\\pi_3 + 0.15\\pi_4 + 0.17\\pi_5 + 0.11\\pi_6 + 0.12\\pi_7 + 0.06\\pi_8 \\\\\n",
        "\\pi_4 &= 0.02\\pi_1 + 0.15\\pi_2 + 0.07\\pi_3 + 0.15\\pi_4 + 0.14\\pi_5 + 0.12\\pi_6 + 0.08\\pi_7 + 0.13\\pi_8 \\\\\n",
        "\\pi_5 &= 0.10\\pi_1 + 0.14\\pi_2 + 0.11\\pi_3 + 0.12\\pi_4 + 0.18\\pi_5 + 0.27\\pi_6 + 0.18\\pi_7 + 0.05\\pi_8 \\\\\n",
        "\\pi_6 &= 0.11\\pi_1 + 0.13\\pi_2 + 0.19\\pi_3 + 0.11\\pi_4 + 0.11\\pi_5 + 0.09\\pi_6 + 0.07\\pi_7 + 0.17\\pi_8 \\\\\n",
        "\\pi_7 &= 0.15\\pi_1 + 0.12\\pi_2 + 0.19\\pi_3 + 0.12\\pi_4 + 0.07\\pi_5 + 0.03\\pi_6 + 0.14\\pi_7 + 0.08\\pi_8 \\\\\n",
        "\\pi_8 &= 0.13\\pi_1 + 0.11\\pi_2 + 0.11\\pi_3 + 0.05\\pi_4 + 0.02\\pi_5 + 0.09\\pi_6 + 0.16\\pi_7 + 0.21\\pi_8 \\\\\n",
        "\\end{align*}\n",
        "\n",
        "\n",
        "Y la ecuación adicional para la suma de las probabilidades:\n",
        "\\begin{align*}\n",
        "\\pi_1 + \\pi_2 + \\pi_3 + \\pi_4 + \\pi_5 + \\pi_6 + \\pi_7 + \\pi_8 = 1\n",
        "\\end{align*}\n",
        "\n",
        "Resolviendo este sistema de ecuaciones, obtendremos el vector de estado estacionario π."
      ],
      "metadata": {
        "id": "MG0_4z6hKUBJ"
      }
    },
    {
      "cell_type": "markdown",
      "source": [
        "**COMPARACION Y ANÁLISIS DE RESUTADOS**"
      ],
      "metadata": {
        "id": "HYQiK9Lwys_9"
      }
    },
    {
      "cell_type": "markdown",
      "source": [
        "**Código 1: Método Iterativo (evolucion_cadena_markov())**  \n",
        "Este código utiliza un método iterativo para calcular el estado estacionario.   \n",
        "Comienza con un estado inicial y aplica repetidamente la matriz de transición para actualizar el estado.  \n",
        "Después de un número suficiente de iteraciones, el estado converge al estado estacionario.  \n",
        "Aunque funcional para matrices relativamente pequeñas, este método puede ser lento para matrices grandes o para cadenas que tardan mucho en converger, ya que al tener muchas columnas, aumentan las dimensiones."
      ],
      "metadata": {
        "id": "Sjbb1j0Y1Nn0"
      }
    },
    {
      "cell_type": "markdown",
      "source": [
        "**Código 2: Método Analítico**  \n",
        "Este código utiliza álgebra lineal (NumPy) para encontrar el estado estacionario de manera analítica.  \n",
        "Calcula los eigenvectores y eigenvalores de la matriz de transición y utiliza el eigenvector correspondiente al eigenvalor 1 para encontrar el estado estacionario.  \n",
        "Este método es preciso, pero es necesario un entendimiento más profundo del álgebra lineal, lo cual aumenta la complejidad del método.\n",
        "Este método es generalmente más rápido y requiere menos iteraciones, especialmente para matrices grandes o con más dimensiones."
      ],
      "metadata": {
        "id": "BE9S82qN1p19"
      }
    },
    {
      "cell_type": "markdown",
      "source": [
        "**Comparación y Análisis**  \n",
        "Los resultados de ambos métodos son esencialmente los mismos, lo que corresponde a una validación de que ambos métodos son correctos. La pequeña diferencia en los últimos decimales es probablemente debido a errores numéricos en los cálculos de punto flotante.\n"
      ],
      "metadata": {
        "id": "HxmIipI72Jcf"
      }
    },
    {
      "cell_type": "markdown",
      "source": [
        "Finalmente, tanto el enfoque iterativo como el analítico son formas legítimas de determinar el estado estacionario en una cadena de Markov. La selección entre los dos dependerá de varios factores, incluyendo la rapidez con la que necesitas la respuesta, el nivel de exactitud que buscas, y cuánto se entiende sobre álgebra lineal."
      ],
      "metadata": {
        "id": "BDNOTis92a7m"
      }
    },
    {
      "cell_type": "code",
      "source": [],
      "metadata": {
        "id": "cEbWKTdR39_6"
      },
      "execution_count": null,
      "outputs": []
    }
  ]
}